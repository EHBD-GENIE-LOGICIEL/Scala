{
 "cells": [
  {
   "cell_type": "code",
   "execution_count": null,
   "id": "a975c324",
   "metadata": {},
   "outputs": [],
   "source": [
    "def ajouter_prefixe(prefixe : String): String = {\n",
    "    def ajouter_chaine(chaine : String):{\n",
    "        return prefixe + \" \" + chaine\n",
    "    }\n",
    "    return ajouter_chaine\n",
    "}"
   ]
  },
  {
   "cell_type": "code",
   "execution_count": null,
   "id": "98ea3720",
   "metadata": {},
   "outputs": [],
   "source": [
    "def liste_entier(input : List): Int ={\n",
    "    def recherche_entier(entier : Int): Int{\n",
    "        return entier in liste_entier\n",
    "    }\n",
    "    return recherche_entier\n",
    "}"
   ]
  },
  {
   "cell_type": "code",
   "execution_count": null,
   "id": "f007d956",
   "metadata": {},
   "outputs": [],
   "source": [
    "def liste_chaine(input : List): String ={\n",
    "    def recherche_chaine(chaine : String): String{\n",
    "        return chaine in liste_chaine\n",
    "    }\n",
    "    return recherche_chaine\n",
    "}"
   ]
  }
 ],
 "metadata": {
  "kernelspec": {
   "display_name": "Scala",
   "language": "scala",
   "name": "scala"
  }
 },
 "nbformat": 4,
 "nbformat_minor": 5
}
