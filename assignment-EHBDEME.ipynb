{
 "cells": [
  {
   "cell_type": "code",
   "execution_count": null,
   "id": "353b0fe4",
   "metadata": {},
   "outputs": [],
   "source": [
    "def pgcd(a:Int,b:Int): Int ={\n",
    "  if ( b ==0) return a\n",
    "  else pgcd (b,a%b)\n",
    "}\n",
    "print(pgcd(28,313))"
   ]
  },
  {
   "cell_type": "code",
   "execution_count": null,
   "id": "fdfb52c4",
   "metadata": {},
   "outputs": [],
   "source": [
    "def fibonacci(n: Int): Int={\n",
    "    var upp=0\n",
    "    var up=1\n",
    "    for(i <- 1 to n){\n",
    "        val u=upp+up\n",
    "        upp=up\n",
    "        up=u\n",
    "    }\n",
    "    upp\n",
    "}"
   ]
  },
  {
   "cell_type": "code",
   "execution_count": null,
   "id": "dedd7d47",
   "metadata": {},
   "outputs": [],
   "source": []
  }
 ],
 "metadata": {
  "kernelspec": {
   "display_name": "Scala",
   "language": "scala",
   "name": "scala"
  }
 },
 "nbformat": 4,
 "nbformat_minor": 5
}
